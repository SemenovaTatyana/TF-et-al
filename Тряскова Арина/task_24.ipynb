{
 "cells": [
  {
   "cell_type": "code",
   "execution_count": 1,
   "metadata": {
    "collapsed": true
   },
   "outputs": [],
   "source": [
    "class Order:    \n",
    "    def __init__(self, name, date, dur, cost, state):\n",
    "        self.name = name\n",
    "        self.date = date\n",
    "        self.dur = dur\n",
    "        self.cost = cost\n",
    "        self.state = state\n",
    "    def get_order(self):\n",
    "        print('Предприятие: ', self.name)\n",
    "        print('Дата поступления: ', self.date)\n",
    "        print('Длительность выполнения: ', self.dur)\n",
    "        print('Стоимость в рублях: ', self.cost)\n",
    "        for item in self.state:\n",
    "            print('Заказ: ', item)"
   ]
  },
  {
   "cell_type": "markdown",
   "metadata": {},
   "source": [
    "Список заказов"
   ]
  },
  {
   "cell_type": "code",
   "execution_count": 2,
   "metadata": {
    "collapsed": true
   },
   "outputs": [],
   "source": [
    "order_list = []"
   ]
  },
  {
   "cell_type": "code",
   "execution_count": 3,
   "metadata": {
    "collapsed": true
   },
   "outputs": [],
   "source": [
    "order_1 = Order('OBI', '10.09.2018', 15, 100, ['выполнен', 'оплачен'])\n",
    "order_list.append(order_1)\n",
    "\n",
    "order_2 = Order('Карусель', '09.09.2018', 30, 1000, ['не выполнен', 'оплачен'])\n",
    "order_list.append(order_2)\n",
    "\n",
    "order_3 = Order('OBI', '13.08.2018', 14, 550, ['выполнен', 'оплачен']) \n",
    "order_list.append(order_3)\n",
    "\n",
    "order_4 = Order('Ikea', '07.09.2018', 56, 484, ['не выполнен', 'оплачен'])\n",
    "order_list.append(order_4)\n",
    "\n",
    "order_5 = Order('Ikea', '11.08.2018', 31, 468, ['выполнен', 'не оплачен']) \n",
    "order_list.append(order_5)\n",
    "\n",
    "order_6 = Order('OBI', '10.06.2018', 52, 917, ['выполнен', 'не оплачен']) \n",
    "order_list.append(order_6)\n",
    "\n",
    "order_7 = Order('Lenta', '03.09.2018', 46, 979, ['не выполнен', 'не оплачен']) \n",
    "order_list.append(order_7)\n",
    "\n",
    "order_8 = Order('Okey', '08.07.2018', 21, 700, ['выполнен', 'не оплачен'])\n",
    "order_list.append(order_8)"
   ]
  },
  {
   "cell_type": "markdown",
   "metadata": {},
   "source": [
    "Подсчет стоимости невыполненных и оплаченных заказов"
   ]
  },
  {
   "cell_type": "code",
   "execution_count": 4,
   "metadata": {
    "collapsed": true
   },
   "outputs": [],
   "source": [
    "def count_cost(lst):\n",
    "    res_cost = 0\n",
    "    for item in lst: \n",
    "        if item.state[0] == 'не выполнен' and item.state[1] == 'оплачен':\n",
    "            res_cost += item.cost\n",
    "    return res_cost"
   ]
  },
  {
   "cell_type": "code",
   "execution_count": 5,
   "metadata": {},
   "outputs": [
    {
     "name": "stdout",
     "output_type": "stream",
     "text": [
      "Стоимость невыполенных и оплаченных товаров составила  1484  руб.\n"
     ]
    }
   ],
   "source": [
    "not_ready_payed = count_cost(order_list)\n",
    "print('Стоимость невыполенных и оплаченных товаров составила ', not_ready_payed, ' руб.')"
   ]
  },
  {
   "cell_type": "markdown",
   "metadata": {},
   "source": [
    "Общая длительность неоплаченных заказов"
   ]
  },
  {
   "cell_type": "code",
   "execution_count": 6,
   "metadata": {
    "collapsed": true
   },
   "outputs": [],
   "source": [
    "def count_not_payed_dur(lst):\n",
    "    res_dur = 0\n",
    "    for item in lst: \n",
    "        if item.state[1] == 'не оплачен':\n",
    "            res_dur += item.dur\n",
    "    return res_dur"
   ]
  },
  {
   "cell_type": "code",
   "execution_count": 7,
   "metadata": {},
   "outputs": [
    {
     "name": "stdout",
     "output_type": "stream",
     "text": [
      "Общая длительность неоплаченных заказов составила  150 ч.\n"
     ]
    }
   ],
   "source": [
    "gen_dur = count_not_payed_dur(order_list)\n",
    "print('Общая длительность неоплаченных заказов составила ', gen_dur, 'ч.')"
   ]
  },
  {
   "cell_type": "markdown",
   "metadata": {},
   "source": [
    "Поиск по наименованию предприятия"
   ]
  },
  {
   "cell_type": "code",
   "execution_count": 8,
   "metadata": {},
   "outputs": [
    {
     "name": "stdout",
     "output_type": "stream",
     "text": [
      "Введите наименование предприятия OBI\n",
      "Предприятие:  OBI\n",
      "Дата поступления:  10.09.2018\n",
      "Длительность выполнения:  15\n",
      "Стоимость в рублях:  100\n",
      "Заказ:  выполнен\n",
      "Заказ:  оплачен\n",
      "\n",
      "\n",
      "Предприятие:  OBI\n",
      "Дата поступления:  13.08.2018\n",
      "Длительность выполнения:  14\n",
      "Стоимость в рублях:  550\n",
      "Заказ:  выполнен\n",
      "Заказ:  оплачен\n",
      "\n",
      "\n",
      "Предприятие:  OBI\n",
      "Дата поступления:  10.06.2018\n",
      "Длительность выполнения:  52\n",
      "Стоимость в рублях:  917\n",
      "Заказ:  выполнен\n",
      "Заказ:  не оплачен\n",
      "\n",
      "\n"
     ]
    }
   ],
   "source": [
    "def company_search(lst):\n",
    "    company_name = input(\"Введите наименование предприятия \")\n",
    "    for item in lst: \n",
    "        if item.name == company_name:\n",
    "            item.get_order()\n",
    "            print('\\n')\n",
    "company_search(order_list)"
   ]
  },
  {
   "cell_type": "markdown",
   "metadata": {},
   "source": [
    "Сортировка по дате поступления"
   ]
  },
  {
   "cell_type": "code",
   "execution_count": 9,
   "metadata": {},
   "outputs": [],
   "source": [
    "from datetime import date\n",
    "def date_parser(date_str):\n",
    "    date_lst = date_str.split('.')\n",
    "    date_pars = date(int(date_lst[2]), int(date_lst[1]), int(date_lst[0]))\n",
    "    return date_pars"
   ]
  },
  {
   "cell_type": "code",
   "execution_count": 10,
   "metadata": {},
   "outputs": [
    {
     "name": "stdout",
     "output_type": "stream",
     "text": [
      "Предприятие:  OBI\n",
      "Дата поступления:  10.06.2018\n",
      "Длительность выполнения:  52\n",
      "Стоимость в рублях:  917\n",
      "Заказ:  выполнен\n",
      "Заказ:  не оплачен\n",
      "\n",
      "\n",
      "Предприятие:  Okey\n",
      "Дата поступления:  08.07.2018\n",
      "Длительность выполнения:  21\n",
      "Стоимость в рублях:  700\n",
      "Заказ:  выполнен\n",
      "Заказ:  не оплачен\n",
      "\n",
      "\n",
      "Предприятие:  Ikea\n",
      "Дата поступления:  11.08.2018\n",
      "Длительность выполнения:  31\n",
      "Стоимость в рублях:  468\n",
      "Заказ:  выполнен\n",
      "Заказ:  не оплачен\n",
      "\n",
      "\n",
      "Предприятие:  OBI\n",
      "Дата поступления:  13.08.2018\n",
      "Длительность выполнения:  14\n",
      "Стоимость в рублях:  550\n",
      "Заказ:  выполнен\n",
      "Заказ:  оплачен\n",
      "\n",
      "\n",
      "Предприятие:  Lenta\n",
      "Дата поступления:  03.09.2018\n",
      "Длительность выполнения:  46\n",
      "Стоимость в рублях:  979\n",
      "Заказ:  не выполнен\n",
      "Заказ:  не оплачен\n",
      "\n",
      "\n",
      "Предприятие:  Ikea\n",
      "Дата поступления:  07.09.2018\n",
      "Длительность выполнения:  56\n",
      "Стоимость в рублях:  484\n",
      "Заказ:  не выполнен\n",
      "Заказ:  оплачен\n",
      "\n",
      "\n",
      "Предприятие:  Карусель\n",
      "Дата поступления:  09.09.2018\n",
      "Длительность выполнения:  30\n",
      "Стоимость в рублях:  1000\n",
      "Заказ:  не выполнен\n",
      "Заказ:  оплачен\n",
      "\n",
      "\n",
      "Предприятие:  OBI\n",
      "Дата поступления:  10.09.2018\n",
      "Длительность выполнения:  15\n",
      "Стоимость в рублях:  100\n",
      "Заказ:  выполнен\n",
      "Заказ:  оплачен\n",
      "\n",
      "\n"
     ]
    }
   ],
   "source": [
    "def date_sort(lst):\n",
    "    #sort_orders = []\n",
    "    flag = True\n",
    "    while flag:\n",
    "        flag = False\n",
    "        for i in range(len(lst) - 1): \n",
    "            date_1 = date_parser(lst[i].date)\n",
    "            date_2 = date_parser(lst[i+1].date)\n",
    "            if date_1 > date_2:\n",
    "                a = lst[i]\n",
    "                lst[i] = lst[i+1]\n",
    "                lst[i+1] = a\n",
    "                flag = True\n",
    "    return lst\n",
    "sort_orders = date_sort(order_list)\n",
    "for item in sort_orders:\n",
    "    item.get_order()\n",
    "    print('\\n')"
   ]
  }
 ],
 "metadata": {
  "kernelspec": {
   "display_name": "Python 3",
   "language": "python",
   "name": "python3"
  },
  "language_info": {
   "codemirror_mode": {
    "name": "ipython",
    "version": 3
   },
   "file_extension": ".py",
   "mimetype": "text/x-python",
   "name": "python",
   "nbconvert_exporter": "python",
   "pygments_lexer": "ipython3",
   "version": "3.6.3"
  }
 },
 "nbformat": 4,
 "nbformat_minor": 2
}
