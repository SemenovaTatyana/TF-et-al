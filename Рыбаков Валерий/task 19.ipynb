{
 "cells": [
  {
   "cell_type": "markdown",
   "metadata": {},
   "source": [
    "19. Реализовать расписание авиарейсов, в котором для каждого рейса указаны: пункт назначения, время вылета, продолжительность полета, количество свободных мест. Обеспечить сортировку записей по времени прибытия и поиск записей по наличию свободных мест"
   ]
  },
  {
   "cell_type": "code",
   "execution_count": 342,
   "metadata": {},
   "outputs": [],
   "source": [
    "from datetime import timedelta, datetime\n",
    "import operator\n",
    "\n",
    "class Table:\n",
    "    def __init__(self, table):\n",
    "        self.table = table\n",
    "    \n",
    "    def __str__(self):\n",
    "        print('Расписание Авиарейсов')\n",
    "        return Table.output(self, self.table)\n",
    "        \n",
    "    def output(self, list):\n",
    "        s = ''\n",
    "        for row in list:\n",
    "            for el in row:\n",
    "                s+=str(el)+'\\t'\n",
    "            s+='\\n'\n",
    "        if s=='':\n",
    "            res = 'Пусто\\n'\n",
    "        else:\n",
    "            res = 'Номер полёта\\tПункт назначения\\tВремя вылета\\tПродолжительность полета\\tКоличество свободных мест\\n'+s\n",
    "        return res\n",
    "    \n",
    "    def add_to_table(self, flights_list):\n",
    "        self.table = self.table + flights_list\n",
    "        print('Добавлены рейсы №', ', '.join([f[0] for f in flights_list]), '\\n')\n",
    "        print(Table.__str__(self))\n",
    "        \n",
    "    def sort_by_arrival(self):\n",
    "        flights_arrival = []\n",
    "        for row in self.table:\n",
    "            flights_arrival.append((row, datetime.strptime(row[2], '%H:%M') + timedelta(minutes=row[3])))\n",
    "        \n",
    "        sorted_flights_arrival = sorted(flights_arrival, key=operator.itemgetter(1))\n",
    "        \n",
    "        out = [flight[0] for flight in sorted_flights_arrival]\n",
    "        \n",
    "        print('Выполнена сортировка по времени прибытия рейса\\n')\n",
    "        print(Table.output(self, out))\n",
    "    \n",
    "    def search_free_seats(self):\n",
    "        free_seat_flights = []\n",
    "        for row in self.table:\n",
    "            if row[4] != 0:\n",
    "                free_seat_flights.append(row)\n",
    "        print('Список рейсов со свободными местами\\n')\n",
    "        print(Table.output(self, free_seat_flights))"
   ]
  },
  {
   "cell_type": "markdown",
   "metadata": {},
   "source": [
    "Создаём пустое расписание"
   ]
  },
  {
   "cell_type": "code",
   "execution_count": 343,
   "metadata": {},
   "outputs": [
    {
     "name": "stdout",
     "output_type": "stream",
     "text": [
      "Расписание Авиарейсов\n",
      "Пусто\n",
      "\n"
     ]
    }
   ],
   "source": [
    "table = Table([])\n",
    "print(table)"
   ]
  },
  {
   "cell_type": "markdown",
   "metadata": {},
   "source": [
    "Заполняем расписание"
   ]
  },
  {
   "cell_type": "code",
   "execution_count": 344,
   "metadata": {},
   "outputs": [
    {
     "name": "stdout",
     "output_type": "stream",
     "text": [
      "Добавлены рейсы № 001, 002 \n",
      "\n",
      "Расписание Авиарейсов\n",
      "Номер полёта\tПункт назначения\tВремя вылета\tПродолжительность полета\tКоличество свободных мест\n",
      "001\tNew-York\t17:20\t790\t4\t\n",
      "002\tBeijing\t06:15\t610\t0\t\n",
      "\n",
      "Добавлены рейсы № 003 \n",
      "\n",
      "Расписание Авиарейсов\n",
      "Номер полёта\tПункт назначения\tВремя вылета\tПродолжительность полета\tКоличество свободных мест\n",
      "001\tNew-York\t17:20\t790\t4\t\n",
      "002\tBeijing\t06:15\t610\t0\t\n",
      "003\tLondon\t10:30\t215\t12\t\n",
      "\n"
     ]
    }
   ],
   "source": [
    "flight1 = ['001', 'New-York', '17:20', 790, 4]\n",
    "flight2 = ['002', 'Beijing', '06:15', 610, 0]\n",
    "\n",
    "table.add_to_table([flight1, flight2])\n",
    "\n",
    "flight3 = ['003', 'London', '10:30', 215, 12]\n",
    "table.add_to_table([flight3])"
   ]
  },
  {
   "cell_type": "markdown",
   "metadata": {},
   "source": [
    "Сортировка полётов по времени прибытия"
   ]
  },
  {
   "cell_type": "code",
   "execution_count": 345,
   "metadata": {},
   "outputs": [
    {
     "name": "stdout",
     "output_type": "stream",
     "text": [
      "Выполнена сортировка по времени прибытия рейса\n",
      "\n",
      "Номер полёта\tПункт назначения\tВремя вылета\tПродолжительность полета\tКоличество свободных мест\n",
      "003\tLondon\t10:30\t215\t12\t\n",
      "002\tBeijing\t06:15\t610\t0\t\n",
      "001\tNew-York\t17:20\t790\t4\t\n",
      "\n"
     ]
    }
   ],
   "source": [
    "table.sort_by_arrival()"
   ]
  },
  {
   "cell_type": "markdown",
   "metadata": {},
   "source": [
    "Поиск полётов, на которые доступны свободные места"
   ]
  },
  {
   "cell_type": "code",
   "execution_count": 346,
   "metadata": {},
   "outputs": [
    {
     "name": "stdout",
     "output_type": "stream",
     "text": [
      "Список рейсов со свободными местами\n",
      "\n",
      "Номер полёта\tПункт назначения\tВремя вылета\tПродолжительность полета\tКоличество свободных мест\n",
      "001\tNew-York\t17:20\t790\t4\t\n",
      "003\tLondon\t10:30\t215\t12\t\n",
      "\n"
     ]
    }
   ],
   "source": [
    "table.search_free_seats()"
   ]
  },
  {
   "cell_type": "code",
   "execution_count": 347,
   "metadata": {},
   "outputs": [
    {
     "name": "stdout",
     "output_type": "stream",
     "text": [
      "Расписание Авиарейсов\n",
      "Номер полёта\tПункт назначения\tВремя вылета\tПродолжительность полета\tКоличество свободных мест\n",
      "001\tNew-York\t17:20\t790\t4\t\n",
      "002\tBeijing\t06:15\t610\t0\t\n",
      "003\tLondon\t10:30\t215\t12\t\n",
      "\n"
     ]
    }
   ],
   "source": [
    "print(table)"
   ]
  },
  {
   "cell_type": "code",
   "execution_count": null,
   "metadata": {
    "collapsed": true
   },
   "outputs": [],
   "source": []
  }
 ],
 "metadata": {
  "kernelspec": {
   "display_name": "Python 3",
   "language": "python",
   "name": "python3"
  },
  "language_info": {
   "codemirror_mode": {
    "name": "ipython",
    "version": 3
   },
   "file_extension": ".py",
   "mimetype": "text/x-python",
   "name": "python",
   "nbconvert_exporter": "python",
   "pygments_lexer": "ipython3",
   "version": "3.6.3"
  }
 },
 "nbformat": 4,
 "nbformat_minor": 2
}
